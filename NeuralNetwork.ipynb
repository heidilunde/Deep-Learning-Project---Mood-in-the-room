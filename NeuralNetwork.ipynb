{
 "cells": [
  {
   "cell_type": "markdown",
   "metadata": {
    "id": "Ye9UeAzyfqzY",
    "tags": []
   },
   "source": [
    "# Data til mood classification\n"
   ]
  },
  {
   "cell_type": "code",
   "execution_count": 149,
   "metadata": {
    "id": "gEM40V49kDUS"
   },
   "outputs": [],
   "source": [
    "#importing important libraries\n",
    "import matplotlib.pyplot as plt\n",
    "import numpy             as np\n",
    "import pandas            as pd\n",
    "import seaborn           as sns\n",
    "import os\n",
    "\n",
    "\n",
    "#Pytorch import\n",
    "import torch\n",
    "from torch.nn.parameter import Parameter\n",
    "import torch.nn as nn\n",
    "import torch.nn.functional as F\n",
    "import torch.optim as optim\n",
    "import torch.nn.init as init\n",
    "\n",
    "import math\n",
    "import numpy as np\n",
    "import matplotlib.pyplot as plt\n",
    "import time\n",
    "\n",
    "from tensorflow               import keras    \n",
    "from torchvision              import models  \n",
    "from tensorflow.keras.utils   import load_img, img_to_array\n",
    "from torch.nn                 import Linear, Conv2d, BatchNorm2d, MaxPool2d, Dropout2d, LogSoftmax, ReLU\n",
    "from skimage                  import io\n",
    "from torch.nn.functional      import relu, elu, relu6, sigmoid, tanh, softmax\n",
    "from torch.optim.lr_scheduler import ReduceLROnPlateau"
   ]
  },
  {
   "cell_type": "code",
   "execution_count": 150,
   "metadata": {
    "id": "v_esMtYssslB"
   },
   "outputs": [],
   "source": [
    "def loadData(dir_path, target, printProgress = True, earlyBreak = 0):\n",
    "    newArr = []\n",
    "    if printProgress:\n",
    "        print('Files in :')\n",
    "        \n",
    "    for t in target:\n",
    "        dir_pathTemp = dir_path + t\n",
    "    \n",
    "        temp = []\n",
    "        for j, i in enumerate(os.listdir(dir_pathTemp)):\n",
    "            if i.endswith('.jpg'):\n",
    "                temp.append(io.imread(dir_pathTemp + \"/\" + i))\n",
    "                if (earlyBreak != 0 and earlyBreak == j):\n",
    "                    break\n",
    "            count = j\n",
    "      \n",
    "        if printProgress:\n",
    "            print('File count in',t,':', count)\n",
    "\n",
    "        for tmp in temp:\n",
    "            newArr.append([tmp, np.where(target == t)[0][0]])\n",
    "\n",
    "    return np.asarray(newArr)"
   ]
  },
  {
   "cell_type": "code",
   "execution_count": 151,
   "metadata": {
    "colab": {
     "base_uri": "https://localhost:8080/"
    },
    "id": "BZQyPcjtrykP",
    "outputId": "aa2207a5-9834-4d65-a0ac-5d44da005b3d"
   },
   "outputs": [
    {
     "name": "stdout",
     "output_type": "stream",
     "text": [
      "Files in :\n",
      "File count in angry : 3992\n",
      "File count in happy : 7163\n",
      "File count in surprise : 3204\n",
      "File count in disgust : 435\n",
      "File count in neutral : 4981\n",
      "File count in fear : 4102\n",
      "File count in sad : 4937\n",
      "Files in :\n"
     ]
    },
    {
     "name": "stderr",
     "output_type": "stream",
     "text": [
      "/tmp/ipykernel_3449136/3140478634.py:23: VisibleDeprecationWarning: Creating an ndarray from ragged nested sequences (which is a list-or-tuple of lists-or-tuples-or ndarrays with different lengths or shapes) is deprecated. If you meant to do this, you must specify 'dtype=object' when creating the ndarray.\n",
      "  return np.asarray(newArr)\n"
     ]
    },
    {
     "name": "stdout",
     "output_type": "stream",
     "text": [
      "File count in angry : 959\n",
      "File count in happy : 1824\n",
      "File count in surprise : 796\n",
      "File count in disgust : 110\n",
      "File count in neutral : 1215\n",
      "File count in fear : 1017\n",
      "File count in sad : 1138\n"
     ]
    }
   ],
   "source": [
    "expression = np.array(['angry', 'happy', 'surprise', 'disgust', 'neutral', 'fear', 'sad'])\n",
    "train_data_load = loadData(\"/home/dl17e22/images/train/\", expression)\n",
    "test_data_load  = loadData(\"/home/dl17e22/images/validation/\", expression)"
   ]
  },
  {
   "cell_type": "code",
   "execution_count": 173,
   "metadata": {
    "id": "mT0c8RBDywtD"
   },
   "outputs": [
    {
     "name": "stdout",
     "output_type": "stream",
     "text": [
      "35887\n",
      "Number of images in Train:  28710\n",
      "Number of images in Valid:  3589\n",
      "Number of images in Test:  3588\n"
     ]
    }
   ],
   "source": [
    "# Shuffles training data\n",
    "np.random.shuffle(train_data_load)\n",
    "np.random.shuffle(test_data_load)\n",
    "\n",
    "#Collects both datafolders in one and makes it into a panda frame\n",
    "data_load = np.concatenate((train_data_load, test_data_load), axis=0)\n",
    "pd_data = pd.DataFrame(data_load)\n",
    "pd_data.columns = ['image','label']\n",
    "print(len(data_load))\n",
    "\n",
    "#Takes 80% to train data\n",
    "df_train = pd_data.groupby('label', group_keys=False).apply(lambda x: x.sample(frac=0.8))\n",
    "\n",
    "#Removes it from the collected data\n",
    "df_valid_test = pd_data.drop(df_train.index)\n",
    "\n",
    "#Takes half of the ramining data to validation data and leaves the rest for test data\n",
    "df_valid = df_valid_test.groupby('label', group_keys=False).apply(lambda x: x.sample(frac=0.5))\n",
    "df_test = df_valid_test.drop(df_valid.index)\n",
    "\n",
    "#Back to Numpy arrays\n",
    "train_data = df_train.to_numpy()\n",
    "valid_data = df_valid.to_numpy()\n",
    "test_data = df_test.to_numpy()\n",
    "print('Number of images in Train: ',train_data.shape[0])\n",
    "print('Number of images in Valid: ',valid_data.shape[0])\n",
    "print('Number of images in Test: ',test_data.shape[0])\n",
    "\n",
    "#Function that makes correct dimensions\n",
    "def correctFormat(arr):\n",
    "    newArr = []\n",
    "    for i, x in enumerate(arr):\n",
    "        newArr.append(np.expand_dims(x, axis = 0).astype('float32'))\n",
    "    return np.asarray(newArr)\n",
    "\n",
    "\n",
    "# Splitting data to an array with images and an array of target emotion\n",
    "# Training Data\n",
    "x_train      = correctFormat(train_data[:,0])\n",
    "train_target = np.asarray(train_data[:,1]).astype('int8')\n",
    "\n",
    "# Validation Data\n",
    "x_valid      = correctFormat(valid_data[:,0])\n",
    "valid_target = np.asarray(valid_data[:, 1]).astype('int8')\n",
    "\n",
    "# Test Data\n",
    "x_test      = correctFormat(test_data[:,0])\n",
    "test_target = test_data[:, 1]"
   ]
  },
  {
   "cell_type": "code",
   "execution_count": 163,
   "metadata": {
    "colab": {
     "base_uri": "https://localhost:8080/"
    },
    "id": "YqZZrKjkN5kd",
    "outputId": "1707d2fc-8de3-47eb-cb44-8664cf29f1cb"
   },
   "outputs": [
    {
     "name": "stdout",
     "output_type": "stream",
     "text": [
      "NeuralNetwork(\n",
      "  (conv1): Conv2d(1, 64, kernel_size=(3, 3), stride=(1, 1), padding=same)\n",
      "  (conv2): Conv2d(64, 128, kernel_size=(5, 5), stride=(1, 1), padding=same)\n",
      "  (conv3): Conv2d(128, 512, kernel_size=(3, 3), stride=(1, 1), padding=same)\n",
      "  (conv4): Conv2d(512, 512, kernel_size=(3, 3), stride=(1, 1), padding=same)\n",
      "  (batch2d_1): BatchNorm2d(64, eps=1e-05, momentum=0.1, affine=True, track_running_stats=True)\n",
      "  (batch2d_2): BatchNorm2d(128, eps=1e-05, momentum=0.1, affine=True, track_running_stats=True)\n",
      "  (batch2d_3): BatchNorm2d(512, eps=1e-05, momentum=0.1, affine=True, track_running_stats=True)\n",
      "  (batch2d_4): BatchNorm1d(256, eps=1e-05, momentum=0.1, affine=True, track_running_stats=True)\n",
      "  (batch2d_5): BatchNorm1d(512, eps=1e-05, momentum=0.1, affine=True, track_running_stats=True)\n",
      "  (pool): MaxPool2d(kernel_size=2, stride=2, padding=0, dilation=1, ceil_mode=False)\n",
      "  (dropout): Dropout(p=0.1, inplace=False)\n",
      "  (flatten): Flatten(start_dim=1, end_dim=-1)\n",
      "  (relu): ReLU()\n",
      "  (FC1): Linear(in_features=4608, out_features=256, bias=True)\n",
      "  (log_softmax): LogSoftmax(dim=1)\n",
      "  (FC2): Linear(in_features=256, out_features=512, bias=True)\n",
      "  (FC3): Linear(in_features=512, out_features=7, bias=True)\n",
      ")\n"
     ]
    }
   ],
   "source": [
    "no_of_classes = 7\n",
    "\n",
    "from torch.nn.modules.batchnorm import BatchNorm2d\n",
    "class NeuralNetwork(nn.Module):\n",
    "    def __init__(self):\n",
    "        super(NeuralNetwork, self).__init__()\n",
    "        self.conv1     = nn.Conv2d(in_channels = 1,   out_channels = 64,  kernel_size = 3, padding = 'same')\n",
    "        self.conv2     = nn.Conv2d(in_channels = 64,  out_channels = 128, kernel_size = 5, padding = 'same')\n",
    "        self.conv3     = nn.Conv2d(in_channels = 128, out_channels = 512, kernel_size = 3, padding = 'same')\n",
    "        self.conv4     = nn.Conv2d(in_channels = 512, out_channels = 512, kernel_size = 3, padding = 'same')\n",
    "        self.batch2d_1 = nn.BatchNorm2d(64)\n",
    "        self.batch2d_2 = nn.BatchNorm2d(128)\n",
    "        self.batch2d_3 = nn.BatchNorm2d(512)\n",
    "\n",
    "        self.batch2d_4 = nn.BatchNorm1d(256)\n",
    "        self.batch2d_5 = nn.BatchNorm1d(512)\n",
    "        self.pool      = nn.MaxPool2d(kernel_size = 2)\n",
    "        self.dropout   = nn.Dropout(0.10)\n",
    "        self.flatten   = nn.Flatten()\n",
    "\n",
    "        self.relu     = nn.ReLU()\n",
    "        self.FC1      = nn.Linear(4608, 256)\n",
    "        self.log_softmax  = nn.LogSoftmax(dim = 1)\n",
    "        self.FC2      = nn.Linear(256, 512)\n",
    "        self.FC3      = nn.Linear(512, 7)\n",
    "    \n",
    "\n",
    "    def forward(self, x):\n",
    "        x = self.conv1(x)\n",
    "        x = self.pool(x)\n",
    "        x = self.batch2d_1(x)\n",
    "        x = F.relu(x)\n",
    "        x = self.dropout(x)\n",
    "\n",
    "        x = self.conv2(x)\n",
    "        x = self.pool(x)\n",
    "        x = self.batch2d_2(x)\n",
    "        x = F.relu(x)\n",
    "        x = self.dropout(x)\n",
    "\n",
    "        x = self.conv3(x)\n",
    "        x = self.pool(x)\n",
    "        x = self.batch2d_3(x)\n",
    "        x = F.relu(x)\n",
    "        x = self.dropout(x) \n",
    "\n",
    "        x = self.conv4(x)\n",
    "        x = self.pool(x)\n",
    "        x = self.batch2d_3(x)\n",
    "        x = F.relu(x)\n",
    "        x = self.dropout(x)\n",
    "\n",
    "        x = self.flatten(x)\n",
    "        x = self.FC1(x)\n",
    "        x = self.batch2d_4(x)\n",
    "        x = F.relu(x)\n",
    "        x = self.dropout(x)\n",
    "\n",
    "        x = self.FC2(x)\n",
    "        x = self.batch2d_5(x)\n",
    "        x = F.relu(x)\n",
    "        x = self.dropout(x)\n",
    "                        \n",
    "        x = self.FC3(x)\n",
    "        x = self.log_softmax(x)\n",
    "        \n",
    "        return x\n",
    "\n",
    "net = NeuralNetwork()\n",
    "print(net)"
   ]
  },
  {
   "cell_type": "code",
   "execution_count": 164,
   "metadata": {
    "id": "JLbD1WXJPrTf"
   },
   "outputs": [],
   "source": [
    "#The choosen optimizer is the Adam optimizer\n",
    "loss_fn   = nn.CrossEntropyLoss()\n",
    "optimizer = optim.Adam(net.parameters(), lr=0.001,weight_decay=0.01)\n",
    "scheduler = ReduceLROnPlateau(optimizer, factor = 0.2, patience = 2, verbose = True)"
   ]
  },
  {
   "cell_type": "code",
   "execution_count": null,
   "metadata": {
    "colab": {
     "base_uri": "https://localhost:8080/"
    },
    "id": "PIbaD1QLP6uc",
    "outputId": "06c7829a-892d-4ad5-b89a-9e10c819ec8f"
   },
   "outputs": [],
   "source": [
    "x = np.random.randn(2, 1, 48,48).astype('float32')\n",
    "out = net(torch.from_numpy(x_train[0:2]))\n",
    "print('Output shape:', out.shape)\n",
    "print('Output tensor:')\n",
    "print(np.asarray(torch.max(out,1)[1]))\n",
    "print(out)"
   ]
  },
  {
   "cell_type": "code",
   "execution_count": null,
   "metadata": {
    "colab": {
     "background_save": true,
     "base_uri": "https://localhost:8080/"
    },
    "id": "nqL858I5P6xU",
    "outputId": "4d3950e3-2ba4-4167-bafd-6a68d69d7733"
   },
   "outputs": [],
   "source": [
    "print_output = []\n",
    "\n",
    "batch_size = 128\n",
    "num_epochs = 40\n",
    "\n",
    "num_samples_train = x_train.shape[0]\n",
    "num_batches_train = num_samples_train // batch_size\n",
    "num_samples_valid = x_valid.shape[0]\n",
    "num_batches_valid = num_samples_valid // batch_size\n",
    "\n",
    "train_acc, train_loss = [], []\n",
    "valid_acc, valid_loss = [], []\n",
    "test_acc,  test_loss  = [], []\n",
    "\n",
    "cur_loss = 0\n",
    "\n",
    "\n",
    "def get_slice(i, size):\n",
    "    return range(i * size, (i + 1) * size)\n",
    "\n",
    "def accuracy_score(targets, predictions):\n",
    "    return 1.0 * np.sum((np.array(targets) == np.array(predictions)))/len(targets)\n",
    "\n",
    "# This function iterates through all batches of a dataset, X_data and returns predictions and matching targets\n",
    "def evaluateLoop(X_data, targets, num_batches):\n",
    "    allTargets, allPredictions = [], []\n",
    "    \n",
    "    # Iterate through the batches\n",
    "    for i in range(num_batches):\n",
    "        slce    = get_slice(i, batch_size)\n",
    "        x_batch = torch.from_numpy(X_data[slce])\n",
    "        \n",
    "        output      = net(x_batch)\n",
    "        predictions = torch.max(output, 1)[1]\n",
    "        \n",
    "        allTargets     += list(targets[slce])\n",
    "        allPredictions += list(predictions.data.numpy())             \n",
    "    \n",
    "    return allTargets, allPredictions\n",
    "\n",
    "\n",
    "for epoch in range(num_epochs):\n",
    "    st_epoch = time.time()\n",
    "    # Train\n",
    "    losses = []\n",
    "    loss = 0\n",
    "    loss_valid = 0\n",
    "    np.random.shuffle(train_data)\n",
    "    np.random.shuffle(valid_data)\n",
    "\n",
    "    # Splitting data to an array with images and an array of target emotion\n",
    "    # Training Data\n",
    "    x_train      = correctFormat(train_data[:,0])\n",
    "    train_target = np.asarray(train_data[:,1]).astype('int8')\n",
    "\n",
    "    # Validation Data\n",
    "    x_valid      = correctFormat(valid_data[:,0])\n",
    "    valid_target = np.asarray(valid_data[:, 1]).astype('int8')\n",
    "\n",
    "    net.train()\n",
    "    for i in range(num_batches_train):\n",
    "        slce    = get_slice(i, batch_size)\n",
    "        x_batch = torch.from_numpy(x_train[slce])\n",
    "        output  = net(x_batch) # Forward pass\n",
    "        \n",
    "        # Compute gradients given loss\n",
    "        target_batch = torch.from_numpy(train_target[slce]).long()\n",
    "        batch_loss   = loss_fn(output, target_batch) # Calculate loss\n",
    "        batch_loss.backward() # Backpropagation\n",
    "        \n",
    "        loss += batch_loss.item()\n",
    "        \n",
    "        \n",
    "        optimizer.step()      # Update parameters\n",
    "        optimizer.zero_grad() # Reset gradients\n",
    "            \n",
    "    net.eval()    \n",
    "    for i in range(num_batches_valid):\n",
    "        slce    = get_slice(i, batch_size)\n",
    "        x_batch = torch.from_numpy(x_valid[slce])\n",
    "        output  = net(x_batch) # Forward pass\n",
    "        \n",
    "        # Compute gradients given loss\n",
    "        target_batch = torch.from_numpy(valid_target[slce]).long()\n",
    "        batch_loss   = loss_fn(output, target_batch) # Calculate loss\n",
    "        \n",
    "        loss_valid += batch_loss.item()\n",
    "        \n",
    "       \n",
    "        \n",
    "    loss = loss / num_batches_train \n",
    "    loss_valid = loss_valid /num_batches_valid\n",
    "    train_loss.append(loss)   \n",
    "    valid_loss.append(loss_valid)\n",
    "    \n",
    "    net.train()\n",
    "    scheduler.step(loss_valid)\n",
    "    net.eval()\n",
    "    \n",
    "    \n",
    "    # Evaluate training data \n",
    "    train_targs, train_preds = evaluateLoop(X_data = x_train, targets = train_target, num_batches = num_batches_train)\n",
    "    \n",
    "    # Evaluate validation data\n",
    "    val_targs, val_preds     = evaluateLoop(X_data = x_valid, targets = valid_target, num_batches = num_batches_valid)\n",
    "    \n",
    "\n",
    "    \n",
    "    # Calculate accuracies\n",
    "    train_acc_cur = accuracy_score(train_targs, train_preds)\n",
    "    valid_acc_cur = accuracy_score(val_targs, val_preds)\n",
    "    \n",
    "    train_acc.append(train_acc_cur)\n",
    "    valid_acc.append(valid_acc_cur)\n",
    "    \n",
    "    #record end time\n",
    "    et_epoch = time.time()\n",
    "    \n",
    "    #Save network\n",
    "    train_acc_print = str(round(train_acc_cur,2)).replace('.','')\n",
    "    path = '/home/dl17e22/NETS/bestoriginal/net-epoch '+str(epoch)+'-acc '+train_acc_print+'.pth'\n",
    "    torch.save(net.state_dict(), path)\n",
    "    \n",
    "    #Plot output\n",
    "    time_e = et_epoch-st_epoch\n",
    "    minutes = time_e //60\n",
    "    seconds = time_e % 60\n",
    "    \n",
    "    print_output.append([epoch + 1,minutes,seconds, train_loss[-1], valid_loss[-1], train_acc_cur, valid_acc_cur])\n",
    "    print()\n",
    "    print(\"Epoch %2i - %2i min. %2i sec. : Train Loss %.3f, Valid Loss %.3f, Train acc %.3f, Valid acc %.3f\" % (epoch + 1,minutes,seconds, train_loss[-1], valid_loss[-1], train_acc_cur, valid_acc_cur))\n",
    "        \n",
    "# Evaluate test set\n",
    "x_batch = torch.from_numpy(x_test)\n",
    "output  = net(x_batch)\n",
    "preds   = torch.max(output, 1)[1]\n",
    "print(\"\\nTest set Acc:  %f\" % (accuracy_score(list(test_target), list(preds.data.numpy()))))"
   ]
  },
  {
   "cell_type": "code",
   "execution_count": 169,
   "metadata": {},
   "outputs": [
    {
     "data": {
      "image/png": "[encoded data removed]",
      "text/plain": [
       "<Figure size 432x288 with 1 Axes>"
      ]
     },
     "metadata": {
      "needs_background": "light"
     },
     "output_type": "display_data"
    }
   ],
   "source": [
    "# Plot training and validation accuracies vs. epochs\n",
    "epoch = range(len(train_acc))\n",
    "plt.figure()\n",
    "plt.plot(epoch, train_acc, 'r'\n",
    ", epoch, valid_acc, 'b')\n",
    "plt.legend(['Train Accuracy'\n",
    ", 'Val Accuracy'])\n",
    "plt.xlabel('Epochs')\n",
    "plt.ylabel('Accuracy')\n",
    "plt.show()"
   ]
  },
  {
   "cell_type": "code",
   "execution_count": null,
   "metadata": {},
   "outputs": [
    {
     "data": {
      "image/png": "[encoded data removed]",
      "text/plain": [
       "<Figure size 432x288 with 1 Axes>"
      ]
     },
     "metadata": {
      "needs_background": "light"
     },
     "output_type": "display_data"
    }
   ],
   "source": [
    "#Plot training and validation loss vs. epochs\n",
    "epoch = range(len(train_acc))\n",
    "plt.figure()\n",
    "plt.plot(epoch, train_loss, 'r'\n",
    ", epoch, valid_loss, 'b')\n",
    "plt.legend(['Train Loss'\n",
    ", 'Validation Loss'])\n",
    "plt.xlabel('Epochs')\n",
    "plt.ylabel('Loss')\n",
    "plt.show()"
   ]
  }
 ],
 "metadata": {
  "colab": {
   "provenance": []
  },
  "kernelspec": {
   "display_name": "Python 3 (ipykernel)",
   "language": "python",
   "name": "python3"
  },
  "language_info": {
   "codemirror_mode": {
    "name": "ipython",
    "version": 3
   },
   "file_extension": ".py",
   "mimetype": "text/x-python",
   "name": "python",
   "nbconvert_exporter": "python",
   "pygments_lexer": "ipython3",
   "version": "3.9.12"
  }
 },
 "nbformat": 4,
 "nbformat_minor": 4
}
